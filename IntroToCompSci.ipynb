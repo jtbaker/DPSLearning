{
 "cells": [
  {
   "cell_type": "code",
   "execution_count": 1,
   "metadata": {},
   "outputs": [],
   "source": [
    "from IPython.display import Image"
   ]
  },
  {
   "cell_type": "markdown",
   "metadata": {},
   "source": [
    "# Introduction to Computer Science with Python at Texas Department of Public Safety"
   ]
  },
  {
   "cell_type": "markdown",
   "metadata": {},
   "source": [
    "## What is Python?\n",
    "\n",
    "- Python is a high level interpreted programming language. Compared to many programming language, it has fairly straightforward, easy to read data structures, methods and syntax, and is very expressive.\n",
    "- It's extremely popular due to its relative simplicity in the world of computer science, and has applications in many different fields, including math and sciences, statistics, business/finance, geography, communications, web development. All of these involve data, and being able work well with data is a huge asset."
   ]
  },
  {
   "cell_type": "code",
   "execution_count": 2,
   "metadata": {},
   "outputs": [
    {
     "name": "stdout",
     "output_type": "stream",
     "text": [
      "The Zen of Python, by Tim Peters\n",
      "\n",
      "Beautiful is better than ugly.\n",
      "Explicit is better than implicit.\n",
      "Simple is better than complex.\n",
      "Complex is better than complicated.\n",
      "Flat is better than nested.\n",
      "Sparse is better than dense.\n",
      "Readability counts.\n",
      "Special cases aren't special enough to break the rules.\n",
      "Although practicality beats purity.\n",
      "Errors should never pass silently.\n",
      "Unless explicitly silenced.\n",
      "In the face of ambiguity, refuse the temptation to guess.\n",
      "There should be one-- and preferably only one --obvious way to do it.\n",
      "Although that way may not be obvious at first unless you're Dutch.\n",
      "Now is better than never.\n",
      "Although never is often better than *right* now.\n",
      "If the implementation is hard to explain, it's a bad idea.\n",
      "If the implementation is easy to explain, it may be a good idea.\n",
      "Namespaces are one honking great idea -- let's do more of those!\n"
     ]
    }
   ],
   "source": [
    "# Some words of wisdom(take with a grain of salt).\n",
    "import this"
   ]
  },
  {
   "cell_type": "markdown",
   "metadata": {},
   "source": [
    "## What is Data?\n",
    "\n",
    "**Data** is a piece of information that are designed to represent information in the real world. Today, we'll be discussing how to use some of those pieces of information, working within the Python programming language."
   ]
  },
  {
   "cell_type": "markdown",
   "metadata": {},
   "source": [
    "The most rudimentary *types* of **_data_** in **Python** (the computer programming language we'll be workding with today) are:\n",
    "1. **Boolean** values. Either **True** or **False**. These are the most basic building blocks of information in computer science in the form of binary code.\n",
    "2. **Integers** (a whole real number), i.e. **1,5,20**, etc. Referred to in Python with the keyword **int**.\n",
    "3. **Floating point numbers** (simply, numbers that have a decimal point, i.e. **2.54, -4000.0**) to record values with higher precision. Referred to in python with the keyword **float**.\n",
    "4. **Strings**. Strings are text that are designed to describe a piece of information - i.e. a last name. Referred to in python with the keyword **str**. Will always be wrapped in either single or double quotation marks, like:\n",
    "> **`\"Jason\"`** or **`'Department of Public Safety'`**\n",
    "5. **None**. This is used to indicate a property that exists but has not yet assigned a value.\n",
    "    \n",
    "In the next section. We'll talk about how to work with these pieces of information and how it can be used to generate meaning for the work that we do, and how it can solve problems we may encounter."
   ]
  },
  {
   "cell_type": "markdown",
   "metadata": {},
   "source": [
    "Each of these different layouts have different functionalities for a variety of applications. It's important to think about how we'll use our data, when we are choosing how to model it.\n",
    "\n",
    "Some questions to ask:\n",
    "> Is this used to represent an identity?\n",
    ">>**str**\n",
    "\n",
    "> Is it a number, representing a quantitative value? How precise do we need to be - will we encounter fractions? How much precision do we need? **Do we need to do math with it?**<br>\n",
    ">>Currency? **float**.<br>\n",
    ">>Number of people? **int** (no fractional values)\n",
    "\n",
    "\n",
    "> Will it evaluate to only one of these: Yes or No(not maybe)?\n",
    ">>**Boolean**.\n",
    "\n",
    "Which would be the best data types to choose to represent:\n",
    "\n",
    "- Previous Drug Offender?\n",
    "- Name of a school?\n",
    "- House number?\n",
    "- Population of a county?\n",
    "- Interest rate on your mortgage?\n",
    "- Wind Advisory?\n",
    "- Drivers License Number?\n",
    "- Latitude/Longitude Coordinates?\n",
    "- 48th POTUS?\n"
   ]
  },
  {
   "cell_type": "markdown",
   "metadata": {},
   "source": [
    "### Each of these data types has it's own methods designed for working with the data.\n",
    "\n",
    "Both of the number types support generic math operations. Let's explore some of these, but first get comfortable with working from the console.\n",
    "\n",
    "Every cell that has ```In``` to the left of it is ```STDIN``` - essentially instructions that we give to the computer to evaluate. In the instructions, we can assign values to variables, perform operations, and return output. You can execute the code in the cell by hitting the Run Cell button, or `Control`+`ENTER` on the keyboard.\n",
    "\n",
    "Many instructions will return output to the console via ```STDOUT``` the cell directly below the `In` cell if no value is assigned.\n",
    "\n",
    "A common way to display output via ```STDOUT`` is by using the `print` function.\n",
    "\n",
    "With that, let's write our first computer program, traditionally called 'Hello World!', per tradition."
   ]
  },
  {
   "cell_type": "markdown",
   "metadata": {},
   "source": [
    "### Hello World"
   ]
  },
  {
   "cell_type": "code",
   "execution_count": 3,
   "metadata": {},
   "outputs": [
    {
     "name": "stdout",
     "output_type": "stream",
     "text": [
      "Hello World!\n"
     ]
    }
   ],
   "source": [
    "print('Hello World!')"
   ]
  },
  {
   "cell_type": "markdown",
   "metadata": {},
   "source": [
    "This illustrates a key concept in computing, that of a **function**. A function is a set of instructions that performs an operation, usually based on input that the user has given it in a set of **arguments** (the computer science term for parameters, or options). Functions are always executed with parentheses after the name, and arguments go inside the parentheses. We'll touch base on this more later, but for now, just remember:\n",
    "\n",
    "**The print function takes data as an argument(s), and sends their outputs to ```STDOUT``` for the user(us) to look at.** This can be helpful when starting out to look at the results of some of the instructions that we've been providing.\n",
    "\n",
    "In this case, we've given it a string with the value ```'Hello World!'```, which it has returned the value of to the output."
   ]
  },
  {
   "cell_type": "markdown",
   "metadata": {},
   "source": [
    "You can also convert data between different types by using the keyword for the datatype as a function, and passing the value or variable name as an argument. Python will try to convert them for you if possible."
   ]
  },
  {
   "cell_type": "code",
   "execution_count": 4,
   "metadata": {},
   "outputs": [
    {
     "data": {
      "text/plain": [
       "'2.35434'"
      ]
     },
     "execution_count": 4,
     "metadata": {},
     "output_type": "execute_result"
    }
   ],
   "source": [
    "number = 2.35434\n",
    "str(number)"
   ]
  },
  {
   "cell_type": "code",
   "execution_count": 5,
   "metadata": {},
   "outputs": [
    {
     "data": {
      "text/plain": [
       "2"
      ]
     },
     "execution_count": 5,
     "metadata": {},
     "output_type": "execute_result"
    }
   ],
   "source": [
    "int(number)"
   ]
  },
  {
   "cell_type": "code",
   "execution_count": 6,
   "metadata": {},
   "outputs": [
    {
     "ename": "ValueError",
     "evalue": "could not convert string to float: 'This is a test'",
     "traceback": [
      "\u001b[1;31m---------------------------------------------------------------------------\u001b[0m",
      "\u001b[1;31mValueError\u001b[0m                                Traceback (most recent call last)",
      "\u001b[1;32m<ipython-input-6-9be58733bc30>\u001b[0m in \u001b[0;36m<module>\u001b[1;34m()\u001b[0m\n\u001b[0;32m      1\u001b[0m \u001b[0msome_words\u001b[0m \u001b[1;33m=\u001b[0m \u001b[1;34m'This is a test'\u001b[0m\u001b[1;33m\u001b[0m\u001b[0m\n\u001b[1;32m----> 2\u001b[1;33m \u001b[0mfloat\u001b[0m\u001b[1;33m(\u001b[0m\u001b[0msome_words\u001b[0m\u001b[1;33m)\u001b[0m\u001b[1;33m\u001b[0m\u001b[0m\n\u001b[0m",
      "\u001b[1;31mValueError\u001b[0m: could not convert string to float: 'This is a test'"
     ],
     "output_type": "error"
    }
   ],
   "source": [
    "some_words = 'This is a test'\n",
    "float(some_words)"
   ]
  },
  {
   "cell_type": "markdown",
   "metadata": {},
   "source": [
    "### Ok, now let's do some real world operations with some data."
   ]
  },
  {
   "cell_type": "code",
   "execution_count": 7,
   "metadata": {},
   "outputs": [
    {
     "data": {
      "text/plain": [
       "(4, None, 10)"
      ]
     },
     "execution_count": 7,
     "metadata": {},
     "output_type": "execute_result"
    }
   ],
   "source": [
    "#Some simple addition/subtraction with integers. Each of their results is sent to `Out`\n",
    "2+2, None, 20-10"
   ]
  },
  {
   "cell_type": "code",
   "execution_count": 8,
   "metadata": {},
   "outputs": [
    {
     "data": {
      "text/plain": [
       "(20, 50.0, 100)"
      ]
     },
     "execution_count": 8,
     "metadata": {},
     "output_type": "execute_result"
    }
   ],
   "source": [
    "#Some more math. Multiplication, Division, and Square of some values, using Mathematical operators.\n",
    "10*2, 100/2, 10**2"
   ]
  },
  {
   "cell_type": "code",
   "execution_count": 9,
   "metadata": {},
   "outputs": [
    {
     "data": {
      "text/plain": [
       "'Jason works at DPS doing Geographic Information Systems.'"
      ]
     },
     "execution_count": 9,
     "metadata": {},
     "output_type": "execute_result"
    }
   ],
   "source": [
    "\"Jason\"+\" works at DPS\"+\" doing Geographic Information Systems.\""
   ]
  },
  {
   "cell_type": "markdown",
   "metadata": {},
   "source": [
    "When using the `+` arithmetic operator on strings we emplement a string method called 'concatenation' that is used to merge multiple strings into one. It does not add spaces, so you neeed to add them"
   ]
  },
  {
   "cell_type": "markdown",
   "metadata": {},
   "source": [
    "One more important concept to remember:\n",
    ">Everything in Python is an **object**, in the sense that any piece of information (data, or instructions) can be assigned to a variable. To manage our data, we have to organize and store it in these variables. Variables look like strings, but without the quotation marks. They must begin with an alphabetic characters, and can include alphanumeric characters and underscores.\n",
    "\n",
    "To assign a value to a variable, we use the `=` operator.\n",
    "\n",
    "If we try to access a variable that has not yet been assigned, we'll get an error at the console.\n",
    "\n",
    "To illustrate:"
   ]
  },
  {
   "cell_type": "code",
   "execution_count": 10,
   "metadata": {},
   "outputs": [],
   "source": [
    "first_name = 'Jason'\n",
    "last_name = 'Baker'"
   ]
  },
  {
   "cell_type": "code",
   "execution_count": 11,
   "metadata": {},
   "outputs": [
    {
     "ename": "NameError",
     "evalue": "name 'middle_name' is not defined",
     "traceback": [
      "\u001b[1;31m---------------------------------------------------------------------------\u001b[0m",
      "\u001b[1;31mNameError\u001b[0m                                 Traceback (most recent call last)",
      "\u001b[1;32m<ipython-input-11-56c04f69f307>\u001b[0m in \u001b[0;36m<module>\u001b[1;34m()\u001b[0m\n\u001b[1;32m----> 1\u001b[1;33m \u001b[0mprint\u001b[0m\u001b[1;33m(\u001b[0m\u001b[0mmiddle_name\u001b[0m\u001b[1;33m)\u001b[0m\u001b[1;33m\u001b[0m\u001b[0m\n\u001b[0m",
      "\u001b[1;31mNameError\u001b[0m: name 'middle_name' is not defined"
     ],
     "output_type": "error"
    }
   ],
   "source": [
    "print(middle_name)"
   ]
  },
  {
   "cell_type": "code",
   "execution_count": 12,
   "metadata": {},
   "outputs": [],
   "source": [
    "full_name = first_name + ' ' + last_name"
   ]
  },
  {
   "cell_type": "code",
   "execution_count": 13,
   "metadata": {},
   "outputs": [
    {
     "name": "stdout",
     "output_type": "stream",
     "text": [
      "The employee's full name is: Jason Baker\n"
     ]
    }
   ],
   "source": [
    "print(\"The employee's full name is: \" + full_name)"
   ]
  },
  {
   "cell_type": "markdown",
   "metadata": {},
   "source": [
    "The variable `full_name` is assigned the value of two previous objects `first_name` and `last_name`, which have been assigned their values in the cell above. When we say:\n",
    "> `full_name = first_name + ' ' + last_name`\n",
    "\n",
    "We are accessing the *values* of `first_name` and `last_name`, and operating on them(using their values) to create a new variable, `full_name` that sandwiches a string with only one space (`' '`) in between them.\n",
    "\n",
    "We've then called the `print` function to display the concatenation of another string and `full_name` to the `Out` cell."
   ]
  },
  {
   "cell_type": "code",
   "execution_count": 14,
   "metadata": {},
   "outputs": [
    {
     "name": "stdout",
     "output_type": "stream",
     "text": [
      "$0.85 <class 'float'>\n"
     ]
    }
   ],
   "source": [
    "us_dollar_to_euro = 0.848384\n",
    "print('${:,.2f}'.format(us_dollar_to_euro), type(us_dollar_to_euro))"
   ]
  },
  {
   "cell_type": "markdown",
   "metadata": {},
   "source": [
    "Let's try some comparison operators. This is extremely common and useful - many times we're interested in how our data is related to each other. Are their values equal, greater or less than each other? We can also perform operations and compare the results of the operations. Since the `=` operator is already reserved for variable assignment, we test for equality with two of the characters side-by-side. I.e.:\n",
    "\n",
    "Comparison operators will always return a **boolean** True or False value, and operations will always evaluate prior to the comparison."
   ]
  },
  {
   "cell_type": "code",
   "execution_count": 15,
   "metadata": {},
   "outputs": [
    {
     "name": "stdout",
     "output_type": "stream",
     "text": [
      "False\n",
      "True\n",
      "True\n",
      "False\n"
     ]
    }
   ],
   "source": [
    "print( 200 < 10 )\n",
    "print( 10 == 10.0 )\n",
    "print( 10 ** 2 == 100 )\n",
    "print( 0 >= 0 + 100 )"
   ]
  },
  {
   "cell_type": "markdown",
   "metadata": {},
   "source": [
    "<br>\n",
    "You can find more about working with the standard data types at https://docs.python.org/3/library/stdtypes.html.\n",
    "\n",
    "Let's go ahead and move ahead into some of the organizational structures that we use to work with these pieces of data.\n",
    "\n",
    "One of the fundamentals for working with data in python is called a `list`. This is a linear collection of objects, to keep information grouped together. You don't usually want to have a separate variable for each item in a group of data - it's much easier to group them into one larger variable object to work with. A list can contain any type of objects, even other lists.\n",
    "\n",
    "Lists are wrapped in square brackets, and each of their contents is separated by commas, just `[like, this]`.\n",
    "\n",
    "Let's get started by creating a list of employees and assigning it to a variable, `employees`."
   ]
  },
  {
   "cell_type": "code",
   "execution_count": 25,
   "metadata": {},
   "outputs": [
    {
     "name": "stdout",
     "output_type": "stream",
     "text": [
      "['TweedleDee', 'Zach', 'Michael', 'Henrietta', 'Monica', 'Jared', 'Gabriella', 'Eric', 'Amanda']\n"
     ]
    }
   ],
   "source": [
    "first_employee = 'TweedleDee'\n",
    "employeelist = [first_employee, 'Zach', 'Michael','Henrietta','Monica','Jared','Gabriella','Eric','Amanda']\n",
    "print(employeelist)"
   ]
  },
  {
   "cell_type": "markdown",
   "metadata": {},
   "source": [
    "Having our data organized like this will make it much easier to work with. \n",
    "The key concept is that it is used to group some set of *like* or *related* information together.\n",
    "Each item in the list has an `index` that can be used to access its value. \n",
    "\n",
    "**NOTE**: The index starts at 0, and increases by 1 for each position in the list. This means that for our list of 9 `employees`, the first element will be at index `0` and the last element will be at index `8`.\n",
    "\n",
    "The index values of the list can be accessed in square brackets to the right of the list object once it has been instantiated. To access items from right to left, pass negative integer values starting at -1 to the index notation.\n",
    "\n",
    "Let's also use Python's builtin `len` function to determine the number of items in the sequence."
   ]
  },
  {
   "cell_type": "code",
   "execution_count": 26,
   "metadata": {},
   "outputs": [
    {
     "name": "stdout",
     "output_type": "stream",
     "text": [
      "TweedleDee\n",
      "Jared\n",
      "Amanda\n",
      "9\n"
     ]
    }
   ],
   "source": [
    "print(employeelist[0])\n",
    "print(employeelist[5])\n",
    "print(employeelist[-1])\n",
    "print(len(employeelist))"
   ]
  },
  {
   "cell_type": "markdown",
   "metadata": {},
   "source": [
    "We can also `slice` the list into a sublist to work with by passing two indexes into the index notation brackets, separated by a colon. These represent the start and stop points of the slice. The stop point is **non**-inclusive, so even though it's index position is in the slice, it will not be included in the output."
   ]
  },
  {
   "cell_type": "code",
   "execution_count": 27,
   "metadata": {},
   "outputs": [
    {
     "name": "stdout",
     "output_type": "stream",
     "text": [
      "['TweedleDee', 'Zach', 'Michael', 'Henrietta', 'Monica']\n",
      " \n",
      "['Jared', 'Gabriella', 'Eric']\n"
     ]
    }
   ],
   "source": [
    "print(employeelist[0:5])\n",
    "print(' ')\n",
    "print(employeelist[5:-1])"
   ]
  },
  {
   "cell_type": "markdown",
   "metadata": {},
   "source": [
    "One of the key properties of lists is that they are **iterable**. This is a computer science term that means we can write instructions for the computer to 'loop' or *iterate* over the object (the list in this case), and perform the same operation for each value. Strings are iterable as well, and their characters can be accessed positionally, the same way that list items are."
   ]
  },
  {
   "cell_type": "markdown",
   "metadata": {},
   "source": [
    "The most common and straightorward iteration pattern in Python is called a **for loop**:\n",
    "\n",
    "The basic structure for this pattern is:\n",
    "\n",
    ">```for item in iterable:```<br>\n",
    "&nbsp;&nbsp;&nbsp;&nbsp;&nbsp;&nbsp;&nbsp;&nbsp;```complete these instructions based on item's value```"
   ]
  },
  {
   "cell_type": "markdown",
   "metadata": {},
   "source": [
    "This is a great use for computers; writing instructions to get machines to do repetitive tasks for us so that we don't have to do them one by one.\n",
    "\n",
    "`iterable` must be an iterable object, and `item` is a placeholder to refer to its value at each step of the sequence."
   ]
  },
  {
   "cell_type": "code",
   "execution_count": 19,
   "metadata": {},
   "outputs": [
    {
     "data": {
      "text/html": [
       "<img src=\"https://cdn.programiz.com/sites/tutorial2program/files/forLoop.jpg\"/>"
      ],
      "text/plain": [
       "<IPython.core.display.Image object>"
      ]
     },
     "execution_count": 19,
     "metadata": {},
     "output_type": "execute_result"
    }
   ],
   "source": [
    "Image(url=\"https://cdn.programiz.com/sites/tutorial2program/files/forLoop.jpg\")"
   ]
  },
  {
   "cell_type": "markdown",
   "metadata": {},
   "source": [
    "Let's see it in action with `employees`, performing the same operation for each item in the sequence:"
   ]
  },
  {
   "cell_type": "code",
   "execution_count": 28,
   "metadata": {},
   "outputs": [
    {
     "name": "stdout",
     "output_type": "stream",
     "text": [
      "The employee's first name is: TweedleDee and their name has 10 letters.\n",
      "The employee's first name is: Zach and their name has 4 letters.\n",
      "The employee's first name is: Michael and their name has 7 letters.\n",
      "The employee's first name is: Henrietta and their name has 9 letters.\n",
      "The employee's first name is: Monica and their name has 6 letters.\n",
      "The employee's first name is: Jared and their name has 5 letters.\n",
      "The employee's first name is: Gabriella and their name has 9 letters.\n",
      "The employee's first name is: Eric and their name has 4 letters.\n",
      "The employee's first name is: Amanda and their name has 6 letters.\n"
     ]
    }
   ],
   "source": [
    "for employee in employeelist:\n",
    "    print(\"The employee's first name is: \"+employee+\" and their name has \"+str(len(employee))+' letters.')"
   ]
  },
  {
   "cell_type": "markdown",
   "metadata": {},
   "source": [
    "Let's introduce some control flow logic now by introducing some new variables outside of the loop, and modifying them inside the loop with some conditional logic."
   ]
  },
  {
   "cell_type": "code",
   "execution_count": 29,
   "metadata": {},
   "outputs": [
    {
     "name": "stdout",
     "output_type": "stream",
     "text": [
      "TweedleDee had the most characters with 10.\n",
      "Zach had the least characters with 4.\n"
     ]
    }
   ],
   "source": [
    "longest=0\n",
    "longestname=None\n",
    "shortest=100\n",
    "shortestname=None\n",
    "\n",
    "for employee in employeelist:\n",
    "    if len(employee) > longest:\n",
    "        longest = len(employee)\n",
    "        longestname = employee\n",
    "    if len(employee) < shortest:\n",
    "        shortest = len(employee)\n",
    "        shortestname = employee\n",
    "\n",
    "print(f\"{longestname} had the most characters with {longest}.\")\n",
    "print(f\"{shortestname} had the least characters with {shortest}.\")"
   ]
  },
  {
   "cell_type": "markdown",
   "metadata": {},
   "source": [
    "When comparing strings arithmetically, Python will compare alphabetically."
   ]
  },
  {
   "cell_type": "code",
   "execution_count": 22,
   "metadata": {},
   "outputs": [
    {
     "name": "stdout",
     "output_type": "stream",
     "text": [
      "False\n",
      "True\n"
     ]
    }
   ],
   "source": [
    "print(\"Allstate\" > \"State Farm\")\n",
    "print(\"Austin\" < \"Dallas\")"
   ]
  },
  {
   "cell_type": "code",
   "execution_count": 31,
   "metadata": {},
   "outputs": [
    {
     "name": "stdout",
     "output_type": "stream",
     "text": [
      "['TweedleDee', 'Zach', 'Michael', 'Henrietta', 'Monica', 'Jared', 'Gabriella', 'Eric', 'Amanda'] \n",
      "\n",
      "['TweedleDee', 'Michael', 'Zach', 'Henrietta', 'Monica', 'Jared', 'Gabriella', 'Eric', 'Amanda'] \n",
      "\n",
      "['TweedleDee', 'Michael', 'Henrietta', 'Zach', 'Monica', 'Jared', 'Gabriella', 'Eric', 'Amanda'] \n",
      "\n",
      "['TweedleDee', 'Michael', 'Henrietta', 'Monica', 'Zach', 'Jared', 'Gabriella', 'Eric', 'Amanda'] \n",
      "\n",
      "['TweedleDee', 'Michael', 'Henrietta', 'Monica', 'Jared', 'Zach', 'Gabriella', 'Eric', 'Amanda'] \n",
      "\n",
      "['TweedleDee', 'Michael', 'Henrietta', 'Monica', 'Jared', 'Gabriella', 'Zach', 'Eric', 'Amanda'] \n",
      "\n",
      "['TweedleDee', 'Michael', 'Henrietta', 'Monica', 'Jared', 'Gabriella', 'Eric', 'Zach', 'Amanda'] \n",
      "\n",
      "['TweedleDee', 'Michael', 'Henrietta', 'Monica', 'Jared', 'Gabriella', 'Eric', 'Amanda', 'Zach'] \n",
      "\n",
      "['TweedleDee', 'Michael', 'Henrietta', 'Monica', 'Jared', 'Gabriella', 'Eric', 'Amanda', 'Zach'] \n",
      "\n",
      "['Michael', 'TweedleDee', 'Henrietta', 'Monica', 'Jared', 'Gabriella', 'Eric', 'Amanda', 'Zach'] \n",
      "\n",
      "['Michael', 'Henrietta', 'TweedleDee', 'Monica', 'Jared', 'Gabriella', 'Eric', 'Amanda', 'Zach'] \n",
      "\n",
      "['Michael', 'Henrietta', 'Monica', 'TweedleDee', 'Jared', 'Gabriella', 'Eric', 'Amanda', 'Zach'] \n",
      "\n",
      "['Michael', 'Henrietta', 'Monica', 'Jared', 'TweedleDee', 'Gabriella', 'Eric', 'Amanda', 'Zach'] \n",
      "\n",
      "['Michael', 'Henrietta', 'Monica', 'Jared', 'Gabriella', 'TweedleDee', 'Eric', 'Amanda', 'Zach'] \n",
      "\n",
      "['Michael', 'Henrietta', 'Monica', 'Jared', 'Gabriella', 'Eric', 'TweedleDee', 'Amanda', 'Zach'] \n",
      "\n",
      "['Michael', 'Henrietta', 'Monica', 'Jared', 'Gabriella', 'Eric', 'Amanda', 'TweedleDee', 'Zach'] \n",
      "\n",
      "['Michael', 'Henrietta', 'Monica', 'Jared', 'Gabriella', 'Eric', 'Amanda', 'TweedleDee', 'Zach'] \n",
      "\n",
      "['Michael', 'Henrietta', 'Monica', 'Jared', 'Gabriella', 'Eric', 'Amanda', 'TweedleDee', 'Zach'] \n",
      "\n",
      "['Henrietta', 'Michael', 'Monica', 'Jared', 'Gabriella', 'Eric', 'Amanda', 'TweedleDee', 'Zach'] \n",
      "\n",
      "['Henrietta', 'Michael', 'Monica', 'Jared', 'Gabriella', 'Eric', 'Amanda', 'TweedleDee', 'Zach'] \n",
      "\n",
      "['Henrietta', 'Michael', 'Jared', 'Monica', 'Gabriella', 'Eric', 'Amanda', 'TweedleDee', 'Zach'] \n",
      "\n",
      "['Henrietta', 'Michael', 'Jared', 'Gabriella', 'Monica', 'Eric', 'Amanda', 'TweedleDee', 'Zach'] \n",
      "\n",
      "['Henrietta', 'Michael', 'Jared', 'Gabriella', 'Eric', 'Monica', 'Amanda', 'TweedleDee', 'Zach'] \n",
      "\n",
      "['Henrietta', 'Michael', 'Jared', 'Gabriella', 'Eric', 'Amanda', 'Monica', 'TweedleDee', 'Zach'] \n",
      "\n",
      "['Henrietta', 'Michael', 'Jared', 'Gabriella', 'Eric', 'Amanda', 'Monica', 'TweedleDee', 'Zach'] \n",
      "\n",
      "['Henrietta', 'Michael', 'Jared', 'Gabriella', 'Eric', 'Amanda', 'Monica', 'TweedleDee', 'Zach'] \n",
      "\n",
      "['Henrietta', 'Michael', 'Jared', 'Gabriella', 'Eric', 'Amanda', 'Monica', 'TweedleDee', 'Zach'] \n",
      "\n",
      "['Henrietta', 'Michael', 'Jared', 'Gabriella', 'Eric', 'Amanda', 'Monica', 'TweedleDee', 'Zach'] \n",
      "\n",
      "['Henrietta', 'Jared', 'Michael', 'Gabriella', 'Eric', 'Amanda', 'Monica', 'TweedleDee', 'Zach'] \n",
      "\n",
      "['Henrietta', 'Jared', 'Gabriella', 'Michael', 'Eric', 'Amanda', 'Monica', 'TweedleDee', 'Zach'] \n",
      "\n",
      "['Henrietta', 'Jared', 'Gabriella', 'Eric', 'Michael', 'Amanda', 'Monica', 'TweedleDee', 'Zach'] \n",
      "\n",
      "['Henrietta', 'Jared', 'Gabriella', 'Eric', 'Amanda', 'Michael', 'Monica', 'TweedleDee', 'Zach'] \n",
      "\n",
      "['Henrietta', 'Jared', 'Gabriella', 'Eric', 'Amanda', 'Michael', 'Monica', 'TweedleDee', 'Zach'] \n",
      "\n",
      "['Henrietta', 'Jared', 'Gabriella', 'Eric', 'Amanda', 'Michael', 'Monica', 'TweedleDee', 'Zach'] \n",
      "\n",
      "['Henrietta', 'Jared', 'Gabriella', 'Eric', 'Amanda', 'Michael', 'Monica', 'TweedleDee', 'Zach'] \n",
      "\n",
      "['Henrietta', 'Jared', 'Gabriella', 'Eric', 'Amanda', 'Michael', 'Monica', 'TweedleDee', 'Zach'] \n",
      "\n",
      "['Henrietta', 'Jared', 'Gabriella', 'Eric', 'Amanda', 'Michael', 'Monica', 'TweedleDee', 'Zach'] \n",
      "\n",
      "['Henrietta', 'Gabriella', 'Jared', 'Eric', 'Amanda', 'Michael', 'Monica', 'TweedleDee', 'Zach'] \n",
      "\n",
      "['Henrietta', 'Gabriella', 'Eric', 'Jared', 'Amanda', 'Michael', 'Monica', 'TweedleDee', 'Zach'] \n",
      "\n",
      "['Henrietta', 'Gabriella', 'Eric', 'Amanda', 'Jared', 'Michael', 'Monica', 'TweedleDee', 'Zach'] \n",
      "\n",
      "['Henrietta', 'Gabriella', 'Eric', 'Amanda', 'Jared', 'Michael', 'Monica', 'TweedleDee', 'Zach'] \n",
      "\n",
      "['Henrietta', 'Gabriella', 'Eric', 'Amanda', 'Jared', 'Michael', 'Monica', 'TweedleDee', 'Zach'] \n",
      "\n",
      "['Henrietta', 'Gabriella', 'Eric', 'Amanda', 'Jared', 'Michael', 'Monica', 'TweedleDee', 'Zach'] \n",
      "\n",
      "['Henrietta', 'Gabriella', 'Eric', 'Amanda', 'Jared', 'Michael', 'Monica', 'TweedleDee', 'Zach'] \n",
      "\n",
      "['Henrietta', 'Gabriella', 'Eric', 'Amanda', 'Jared', 'Michael', 'Monica', 'TweedleDee', 'Zach'] \n",
      "\n",
      "['Gabriella', 'Henrietta', 'Eric', 'Amanda', 'Jared', 'Michael', 'Monica', 'TweedleDee', 'Zach'] \n",
      "\n",
      "['Gabriella', 'Eric', 'Henrietta', 'Amanda', 'Jared', 'Michael', 'Monica', 'TweedleDee', 'Zach'] \n",
      "\n",
      "['Gabriella', 'Eric', 'Amanda', 'Henrietta', 'Jared', 'Michael', 'Monica', 'TweedleDee', 'Zach'] \n",
      "\n",
      "['Gabriella', 'Eric', 'Amanda', 'Henrietta', 'Jared', 'Michael', 'Monica', 'TweedleDee', 'Zach'] \n",
      "\n",
      "['Gabriella', 'Eric', 'Amanda', 'Henrietta', 'Jared', 'Michael', 'Monica', 'TweedleDee', 'Zach'] \n",
      "\n",
      "['Gabriella', 'Eric', 'Amanda', 'Henrietta', 'Jared', 'Michael', 'Monica', 'TweedleDee', 'Zach'] \n",
      "\n",
      "['Gabriella', 'Eric', 'Amanda', 'Henrietta', 'Jared', 'Michael', 'Monica', 'TweedleDee', 'Zach'] \n",
      "\n",
      "['Gabriella', 'Eric', 'Amanda', 'Henrietta', 'Jared', 'Michael', 'Monica', 'TweedleDee', 'Zach'] \n",
      "\n",
      "['Gabriella', 'Eric', 'Amanda', 'Henrietta', 'Jared', 'Michael', 'Monica', 'TweedleDee', 'Zach'] \n",
      "\n",
      "['Eric', 'Gabriella', 'Amanda', 'Henrietta', 'Jared', 'Michael', 'Monica', 'TweedleDee', 'Zach'] \n",
      "\n",
      "['Eric', 'Amanda', 'Gabriella', 'Henrietta', 'Jared', 'Michael', 'Monica', 'TweedleDee', 'Zach'] \n",
      "\n",
      "['Eric', 'Amanda', 'Gabriella', 'Henrietta', 'Jared', 'Michael', 'Monica', 'TweedleDee', 'Zach'] \n",
      "\n",
      "['Eric', 'Amanda', 'Gabriella', 'Henrietta', 'Jared', 'Michael', 'Monica', 'TweedleDee', 'Zach'] \n",
      "\n",
      "['Eric', 'Amanda', 'Gabriella', 'Henrietta', 'Jared', 'Michael', 'Monica', 'TweedleDee', 'Zach'] \n",
      "\n",
      "['Eric', 'Amanda', 'Gabriella', 'Henrietta', 'Jared', 'Michael', 'Monica', 'TweedleDee', 'Zach'] \n",
      "\n",
      "['Eric', 'Amanda', 'Gabriella', 'Henrietta', 'Jared', 'Michael', 'Monica', 'TweedleDee', 'Zach'] \n",
      "\n",
      "['Eric', 'Amanda', 'Gabriella', 'Henrietta', 'Jared', 'Michael', 'Monica', 'TweedleDee', 'Zach'] \n",
      "\n",
      "['Eric', 'Amanda', 'Gabriella', 'Henrietta', 'Jared', 'Michael', 'Monica', 'TweedleDee', 'Zach'] \n",
      "\n",
      "['Amanda', 'Eric', 'Gabriella', 'Henrietta', 'Jared', 'Michael', 'Monica', 'TweedleDee', 'Zach'] \n",
      "\n",
      "['Amanda', 'Eric', 'Gabriella', 'Henrietta', 'Jared', 'Michael', 'Monica', 'TweedleDee', 'Zach'] \n",
      "\n",
      "['Amanda', 'Eric', 'Gabriella', 'Henrietta', 'Jared', 'Michael', 'Monica', 'TweedleDee', 'Zach'] \n",
      "\n",
      "['Amanda', 'Eric', 'Gabriella', 'Henrietta', 'Jared', 'Michael', 'Monica', 'TweedleDee', 'Zach'] \n",
      "\n",
      "['Amanda', 'Eric', 'Gabriella', 'Henrietta', 'Jared', 'Michael', 'Monica', 'TweedleDee', 'Zach'] \n",
      "\n",
      "['Amanda', 'Eric', 'Gabriella', 'Henrietta', 'Jared', 'Michael', 'Monica', 'TweedleDee', 'Zach'] \n",
      "\n",
      "['Amanda', 'Eric', 'Gabriella', 'Henrietta', 'Jared', 'Michael', 'Monica', 'TweedleDee', 'Zach'] \n",
      "\n",
      "['Amanda', 'Eric', 'Gabriella', 'Henrietta', 'Jared', 'Michael', 'Monica', 'TweedleDee', 'Zach'] \n",
      "\n",
      "['Amanda', 'Eric', 'Gabriella', 'Henrietta', 'Jared', 'Michael', 'Monica', 'TweedleDee', 'Zach'] \n",
      "\n",
      "['Amanda', 'Eric', 'Gabriella', 'Henrietta', 'Jared', 'Michael', 'Monica', 'TweedleDee', 'Zach'] \n",
      "\n",
      "['Amanda', 'Eric', 'Gabriella', 'Henrietta', 'Jared', 'Michael', 'Monica', 'TweedleDee', 'Zach'] \n",
      "\n",
      "['Amanda', 'Eric', 'Gabriella', 'Henrietta', 'Jared', 'Michael', 'Monica', 'TweedleDee', 'Zach'] \n",
      "\n",
      "['Amanda', 'Eric', 'Gabriella', 'Henrietta', 'Jared', 'Michael', 'Monica', 'TweedleDee', 'Zach'] \n",
      "\n",
      "['Amanda', 'Eric', 'Gabriella', 'Henrietta', 'Jared', 'Michael', 'Monica', 'TweedleDee', 'Zach'] \n",
      "\n",
      "['Amanda', 'Eric', 'Gabriella', 'Henrietta', 'Jared', 'Michael', 'Monica', 'TweedleDee', 'Zach'] \n",
      "\n",
      "['Amanda', 'Eric', 'Gabriella', 'Henrietta', 'Jared', 'Michael', 'Monica', 'TweedleDee', 'Zach'] \n",
      "\n",
      "['Amanda', 'Eric', 'Gabriella', 'Henrietta', 'Jared', 'Michael', 'Monica', 'TweedleDee', 'Zach'] \n",
      "\n",
      "['Amanda', 'Eric', 'Gabriella', 'Henrietta', 'Jared', 'Michael', 'Monica', 'TweedleDee', 'Zach'] \n",
      "\n"
     ]
    }
   ],
   "source": [
    "first_employee = 'TweedleDee'\n",
    "employeelist = [first_employee, 'Zach', 'Michael','Henrietta','Monica','Jared','Gabriella','Eric','Amanda']\n",
    "\n",
    "position = 0\n",
    "for number in employeelist:\n",
    "    for employee in employeelist:\n",
    "        if employee != employeelist[-1]:\n",
    "            if employeelist[position]>employeelist[position+1]:\n",
    "                employeelist[position],employeelist[position+1]=employeelist[position+1],employeelist[position]\n",
    "        if position <= len(employeelist):\n",
    "            position = position + 1\n",
    "        print(employeelist,'\\n')\n",
    "    position=0"
   ]
  },
  {
   "cell_type": "code",
   "execution_count": null,
   "metadata": {},
   "outputs": [],
   "source": []
  },
  {
   "cell_type": "code",
   "execution_count": null,
   "metadata": {},
   "outputs": [],
   "source": []
  }
 ],
 "metadata": {
  "kernelspec": {
   "display_name": "Python 3",
   "language": "python",
   "name": "python3"
  },
  "language_info": {
   "codemirror_mode": {
    "name": "ipython",
    "version": 3
   },
   "file_extension": ".py",
   "mimetype": "text/x-python",
   "name": "python",
   "nbconvert_exporter": "python",
   "pygments_lexer": "ipython3",
   "version": "3.6.4"
  }
 },
 "nbformat": 4,
 "nbformat_minor": 2
}
